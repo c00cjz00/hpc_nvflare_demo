{
 "cells": [
  {
   "cell_type": "markdown",
   "id": "b4326136-0827-4d56-b00e-eff2c3e8aae9",
   "metadata": {},
   "source": [
    "# https://github.com/NVIDIA/NVFlare/blob/dev/examples/tutorials/flare_api.ipynb"
   ]
  },
  {
   "cell_type": "markdown",
   "id": "56728fe4-b8fd-44a9-95cb-8fd5784d42ff",
   "metadata": {},
   "source": [
    "## CMD"
   ]
  },
  {
   "cell_type": "code",
   "execution_count": null,
   "id": "30cfa8a9-d6d7-4220-a10c-83a00b005330",
   "metadata": {
    "tags": []
   },
   "outputs": [],
   "source": [
    "!git clone https://github.com/NVIDIA/NVFlare.git"
   ]
  },
  {
   "cell_type": "code",
   "execution_count": null,
   "id": "544fb6e4-4080-4f0b-b054-017dac8e9696",
   "metadata": {
    "tags": []
   },
   "outputs": [],
   "source": [
    "!ls NVFlare/examples/hello-world/hello-pt/jobs/hello-pt"
   ]
  },
  {
   "cell_type": "code",
   "execution_count": null,
   "id": "b662f366-d200-4911-85f4-4e150b3c4cb2",
   "metadata": {
    "tags": []
   },
   "outputs": [],
   "source": [
    "# 1. Admin Folder\n",
    "import os\n",
    "whoami=!whoami\n",
    "os.environ['NVFLARE_POC_WORKSPACE']='/home/' + whoami[0] + '/hpc_nvflare_demo/case01'\n",
    "workspace = os.environ['NVFLARE_POC_WORKSPACE']\n",
    "admin_dir = os.path.join(workspace, \"admin\")"
   ]
  },
  {
   "cell_type": "code",
   "execution_count": null,
   "id": "84d60d7a-2f00-4529-9eec-1125b3647e10",
   "metadata": {
    "tags": []
   },
   "outputs": [],
   "source": [
    "!rm -rf $NVFLARE_POC_WORKSPACE/admin/transfer/hello-pt\n",
    "!cp -rf NVFlare/examples/hello-world/hello-pt/jobs/hello-pt $NVFLARE_POC_WORKSPACE/admin/transfer/hello-pt"
   ]
  },
  {
   "cell_type": "code",
   "execution_count": null,
   "id": "7658efb8-e655-48fe-ae12-57dbbe630fd2",
   "metadata": {
    "tags": []
   },
   "outputs": [],
   "source": [
    "# 2. Connection\n",
    "from nvflare.fuel.flare_api.flare_api import new_insecure_session\n",
    "sess = new_insecure_session(admin_dir)\n",
    "#sess = new_secure_session(\"admin@nvidia.com\", admin_dir)"
   ]
  },
  {
   "cell_type": "code",
   "execution_count": null,
   "id": "a751e520-d86f-4f43-93fb-71097c8e008f",
   "metadata": {
    "tags": []
   },
   "outputs": [],
   "source": [
    "# 3. check_status server\n",
    "sess.api.do_command(\"check_status server\")"
   ]
  },
  {
   "cell_type": "code",
   "execution_count": null,
   "id": "41483178-c92b-4d3e-b93c-122d817c2a25",
   "metadata": {
    "tags": []
   },
   "outputs": [],
   "source": [
    "# 4. check_status client\n",
    "sess.api.do_command(\"check_status client\")"
   ]
  },
  {
   "cell_type": "code",
   "execution_count": null,
   "id": "a37fc285-a9e0-46c9-9c08-91f3c47cc1e7",
   "metadata": {
    "tags": []
   },
   "outputs": [],
   "source": [
    "# 5. submit job\n",
    "sess.api.do_command(\"submit_job hello-pt\")"
   ]
  },
  {
   "cell_type": "code",
   "execution_count": null,
   "id": "78283741-1e3e-4ff5-9869-1b318a544fb8",
   "metadata": {
    "tags": []
   },
   "outputs": [],
   "source": [
    "# 12. All Other Commands\n",
    "sess.api.do_command(\"list_jobs\")"
   ]
  },
  {
   "cell_type": "code",
   "execution_count": null,
   "id": "8a50bece-bdc4-4fa8-b2c7-4182d68b3d44",
   "metadata": {
    "tags": []
   },
   "outputs": [],
   "source": [
    "# 12. All Other Commands\n",
    "sess.api.do_command(\"abort_job d31e69d1-d0b4-45c9-b54a-ca69c278b8cd\")"
   ]
  },
  {
   "cell_type": "code",
   "execution_count": null,
   "id": "d7b67921-50dc-4a12-b856-f7d8858e0d2a",
   "metadata": {
    "tags": []
   },
   "outputs": [],
   "source": [
    "# 12. All Other Commands\n",
    "sess.api.do_command(\"delete_job 4d1be7e4-0ac2-44c7-9203-f7f4aae97389\")"
   ]
  },
  {
   "cell_type": "code",
   "execution_count": null,
   "id": "d4d02ced-55e3-48fe-a5f3-77a5d95174da",
   "metadata": {
    "tags": []
   },
   "outputs": [],
   "source": [
    "# 12. All Other Commands\n",
    "sess.api.do_command(\"shutdown client\")"
   ]
  },
  {
   "cell_type": "code",
   "execution_count": null,
   "id": "1b5cffec-09cf-4fc5-9806-5170a2857e1e",
   "metadata": {
    "tags": []
   },
   "outputs": [],
   "source": [
    "# 12. All Other Commands\n",
    "sess.api.do_command(\"remove_client site-vm001\")"
   ]
  },
  {
   "cell_type": "code",
   "execution_count": null,
   "id": "dc85685a-1a54-4194-8351-672e83caff78",
   "metadata": {
    "tags": []
   },
   "outputs": [],
   "source": [
    "sess.api.do_command(\"shutdown server\")"
   ]
  },
  {
   "cell_type": "code",
   "execution_count": null,
   "id": "1e34e40b-5680-441c-9d4b-bce908104b5a",
   "metadata": {
    "tags": []
   },
   "outputs": [],
   "source": [
    "# 12. All Other Commands\n",
    "sess.api.do_command(\"check_status server\")"
   ]
  },
  {
   "cell_type": "code",
   "execution_count": null,
   "id": "f840650f-6304-45eb-b759-d8d195aaeb33",
   "metadata": {},
   "outputs": [],
   "source": [
    "sess.api.do_command('shutdown clinet')"
   ]
  },
  {
   "cell_type": "code",
   "execution_count": null,
   "id": "fa802e6f-a95f-4483-a105-61a7bd6cf12e",
   "metadata": {
    "tags": []
   },
   "outputs": [],
   "source": [
    "# 12. All Other Commands\n",
    "sess.api.do_command(\"remove_client site-sinica51\")"
   ]
  },
  {
   "cell_type": "code",
   "execution_count": null,
   "id": "789aff10-75cd-4fb6-9927-bfd6c5907382",
   "metadata": {},
   "outputs": [],
   "source": [
    "# 12. All Other Commands\n",
    "sess.api.do_command(\"remove_client site-sinica51\")"
   ]
  },
  {
   "cell_type": "code",
   "execution_count": null,
   "id": "f481500d-e4f4-416a-82ff-efe089c42383",
   "metadata": {
    "tags": []
   },
   "outputs": [],
   "source": [
    "# 13 Download\n",
    "sess.api.do_command(\"download_job 53110f59-4228-48a2-81f1-f0c3943f3a83\")"
   ]
  },
  {
   "cell_type": "code",
   "execution_count": null,
   "id": "7afbd7d2-8e08-46e6-abcc-ca7c26e80c69",
   "metadata": {},
   "outputs": [],
   "source": [
    "# 下載資料\n",
    "#job_id=\"abfd3b5f-549c-4466-8823-12d92024a89d\"\n",
    "sess.download_job_result(job_id)"
   ]
  }
 ],
 "metadata": {
  "kernelspec": {
   "display_name": "Image_BIO_pytorch_22.12-py3",
   "language": "python",
   "name": "bio_pytorch_22.12-py3"
  },
  "language_info": {
   "codemirror_mode": {
    "name": "ipython",
    "version": 3
   },
   "file_extension": ".py",
   "mimetype": "text/x-python",
   "name": "python",
   "nbconvert_exporter": "python",
   "pygments_lexer": "ipython3",
   "version": "3.8.10"
  }
 },
 "nbformat": 4,
 "nbformat_minor": 5
}
