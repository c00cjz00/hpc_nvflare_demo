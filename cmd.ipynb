{
 "cells": [
  {
   "cell_type": "code",
   "execution_count": null,
   "id": "a2380bde-ee2b-4741-a85c-d0710cb39e01",
   "metadata": {
    "tags": []
   },
   "outputs": [],
   "source": [
    "!/usr/sbin/lsof -i -P -n |grep $(whoami) |grep  38003"
   ]
  },
  {
   "cell_type": "code",
   "execution_count": null,
   "id": "890e1fd1-65bf-4089-a297-9a5f42661b03",
   "metadata": {},
   "outputs": [],
   "source": [
    "!ps aux | grep nvflare | awk '{print $2}' | xargs kill -9"
   ]
  },
  {
   "cell_type": "code",
   "execution_count": null,
   "id": "d6f27f25-b6d1-41b9-99b9-cc25884cac57",
   "metadata": {},
   "outputs": [],
   "source": [
    "!rm -rf case01 NVFlare"
   ]
  },
  {
   "cell_type": "code",
   "execution_count": null,
   "id": "ed97be72-c000-40e5-a6ed-360a1d985a07",
   "metadata": {},
   "outputs": [],
   "source": []
  }
 ],
 "metadata": {
  "kernelspec": {
   "display_name": "Python 3 (ipykernel)",
   "language": "python",
   "name": "python3"
  },
  "language_info": {
   "codemirror_mode": {
    "name": "ipython",
    "version": 3
   },
   "file_extension": ".py",
   "mimetype": "text/x-python",
   "name": "python",
   "nbconvert_exporter": "python",
   "pygments_lexer": "ipython3",
   "version": "3.8.16"
  }
 },
 "nbformat": 4,
 "nbformat_minor": 5
}
