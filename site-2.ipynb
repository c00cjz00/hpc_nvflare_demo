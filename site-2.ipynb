{
 "cells": [
  {
   "cell_type": "code",
   "execution_count": null,
   "id": "7b54154d",
   "metadata": {
    "tags": []
   },
   "outputs": [],
   "source": [
    "import os\n",
    "Add_Binarry_Path='/home/g00cjz00/.local/bin'\n",
    "os.environ['PATH']=Add_Binarry_Path+':'+os.environ['PATH']"
   ]
  },
  {
   "cell_type": "code",
   "execution_count": null,
   "id": "9d79c3b6",
   "metadata": {
    "tags": []
   },
   "outputs": [],
   "source": [
    "whoami=!whoami\n",
    "os.environ['NVFLARE_POC_WORKSPACE']='/home/' + whoami[0] + '/hpc_nvflare_demo/case01'"
   ]
  },
  {
   "cell_type": "code",
   "execution_count": null,
   "id": "8a34b5c2",
   "metadata": {
    "tags": []
   },
   "outputs": [],
   "source": [
    "%%bash \n",
    "$NVFLARE_POC_WORKSPACE/site-2/startup/start.sh"
   ]
  },
  {
   "cell_type": "code",
   "execution_count": null,
   "id": "42dd5eb6",
   "metadata": {},
   "outputs": [],
   "source": []
  }
 ],
 "metadata": {
  "kernelspec": {
   "display_name": "Image_pytorch_22.12-py3",
   "language": "python",
   "name": "pytorch_22.12-py3"
  },
  "language_info": {
   "codemirror_mode": {
    "name": "ipython",
    "version": 3
   },
   "file_extension": ".py",
   "mimetype": "text/x-python",
   "name": "python",
   "nbconvert_exporter": "python",
   "pygments_lexer": "ipython3",
   "version": "3.8.10"
  }
 },
 "nbformat": 4,
 "nbformat_minor": 5
}
