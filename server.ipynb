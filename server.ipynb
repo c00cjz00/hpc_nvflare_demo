{
 "cells": [
  {
   "cell_type": "code",
   "execution_count": null,
   "id": "92305b94",
   "metadata": {
    "tags": []
   },
   "outputs": [],
   "source": [
    "import os\n",
    "Add_Binarry_Path='~/.local/bin'\n",
    "os.environ['PATH']=Add_Binarry_Path+':'+os.environ['PATH']"
   ]
  },
  {
   "cell_type": "code",
   "execution_count": null,
   "id": "206973be-8566-443a-972b-dcc4c6dbd691",
   "metadata": {},
   "outputs": [],
   "source": [
    "# 清空示範資料夾\n",
    "!rm -rf /home/$(whoami)/nvflare_demo/case01"
   ]
  },
  {
   "cell_type": "code",
   "execution_count": null,
   "id": "6a5c6aa1-6cac-4ae2-85eb-e200f45269b8",
   "metadata": {
    "tags": []
   },
   "outputs": [],
   "source": [
    "whoami=!whoami\n",
    "os.environ['NVFLARE_POC_WORKSPACE']='/home/' + whoami[0] + '/hpc_nvflare_demo/case01'"
   ]
  },
  {
   "cell_type": "code",
   "execution_count": null,
   "id": "045d531d",
   "metadata": {
    "tags": []
   },
   "outputs": [],
   "source": [
    "%%bash\n",
    "yes | nvflare poc  --prepare -n 2\n",
    "node_hostname=$(hostname -s)\n",
    "sed -i \"s/localhost/$node_hostname/g\" $NVFLARE_POC_WORKSPACE/*/*/*\n",
    "sed -i 's/8002/38002/g' $NVFLARE_POC_WORKSPACE/*/*/*\n",
    "sed -i 's/8003/38003/g' $NVFLARE_POC_WORKSPACE/*/*/*\n",
    "grep 8002 $NVFLARE_POC_WORKSPACE/*/*/*"
   ]
  },
  {
   "cell_type": "code",
   "execution_count": null,
   "id": "18bdcf73",
   "metadata": {
    "tags": []
   },
   "outputs": [],
   "source": [
    "%%bash \n",
    "$NVFLARE_POC_WORKSPACE/server/startup/start.sh"
   ]
  },
  {
   "cell_type": "code",
   "execution_count": null,
   "id": "c216fb82",
   "metadata": {
    "tags": []
   },
   "outputs": [],
   "source": [
    "!yes|  $NVFLARE_POC_WORKSPACE/server/startup/stop_fl.sh"
   ]
  },
  {
   "cell_type": "code",
   "execution_count": null,
   "id": "20016e99-ec2a-46f4-9ebe-f8141bfdcc00",
   "metadata": {},
   "outputs": [],
   "source": []
  }
 ],
 "metadata": {
  "kernelspec": {
   "display_name": "Image_BIO_pytorch_22.12-py3",
   "language": "python",
   "name": "bio_pytorch_22.12-py3"
  },
  "language_info": {
   "codemirror_mode": {
    "name": "ipython",
    "version": 3
   },
   "file_extension": ".py",
   "mimetype": "text/x-python",
   "name": "python",
   "nbconvert_exporter": "python",
   "pygments_lexer": "ipython3",
   "version": "3.8.10"
  }
 },
 "nbformat": 4,
 "nbformat_minor": 5
}
