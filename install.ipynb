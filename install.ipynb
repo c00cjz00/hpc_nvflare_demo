{
 "cells": [
  {
   "cell_type": "code",
   "execution_count": null,
   "id": "8deae26b",
   "metadata": {
    "tags": []
   },
   "outputs": [],
   "source": [
    "pip list -v|grep nvflare"
   ]
  },
  {
   "cell_type": "code",
   "execution_count": null,
   "id": "5c9a570d-47d2-448c-abfe-440dda48860c",
   "metadata": {
    "tags": []
   },
   "outputs": [],
   "source": [
    "pip install nvflare -q"
   ]
  },
  {
   "cell_type": "code",
   "execution_count": null,
   "id": "92305b94",
   "metadata": {
    "tags": []
   },
   "outputs": [],
   "source": [
    "import os\n",
    "Add_Binarry_Path='~/.local/bin'\n",
    "os.environ['PATH']=Add_Binarry_Path+':'+os.environ['PATH']"
   ]
  },
  {
   "cell_type": "code",
   "execution_count": null,
   "id": "0c0acd50-9c48-4b33-9f46-4defc46f9259",
   "metadata": {
    "tags": []
   },
   "outputs": [],
   "source": [
    "!nvflare --help"
   ]
  },
  {
   "cell_type": "code",
   "execution_count": null,
   "id": "6339e2f6-267f-4429-b3b9-d525fd136eac",
   "metadata": {},
   "outputs": [],
   "source": []
  }
 ],
 "metadata": {
  "kernelspec": {
   "display_name": "Image_BIO_pytorch_22.12-py3",
   "language": "python",
   "name": "bio_pytorch_22.12-py3"
  },
  "language_info": {
   "codemirror_mode": {
    "name": "ipython",
    "version": 3
   },
   "file_extension": ".py",
   "mimetype": "text/x-python",
   "name": "python",
   "nbconvert_exporter": "python",
   "pygments_lexer": "ipython3",
   "version": "3.8.10"
  }
 },
 "nbformat": 4,
 "nbformat_minor": 5
}
